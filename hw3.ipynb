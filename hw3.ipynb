{
 "cells": [
  {
   "cell_type": "code",
   "execution_count": 2,
   "metadata": {},
   "outputs": [
    {
     "name": "stdout",
     "output_type": "stream",
     "text": [
      "Collecting pyspark\n",
      "  Downloading pyspark-3.5.3.tar.gz (317.3 MB)\n",
      "\u001b[2K     \u001b[38;2;114;156;31m━━━━━━━━━━━━━━━━━━━━━━━━━━━━━━━━━━━━━━\u001b[0m \u001b[32m317.3/317.3 MB\u001b[0m \u001b[31m16.8 MB/s\u001b[0m eta \u001b[36m0:00:00\u001b[0mm eta \u001b[36m0:00:01\u001b[0m[36m0:00:01\u001b[0m\n",
      "\u001b[?25h  Installing build dependencies ... \u001b[?25ldone\n",
      "\u001b[?25h  Getting requirements to build wheel ... \u001b[?25ldone\n",
      "\u001b[?25h  Preparing metadata (pyproject.toml) ... \u001b[?25ldone\n",
      "\u001b[?25hCollecting py4j==0.10.9.7 (from pyspark)\n",
      "  Downloading py4j-0.10.9.7-py2.py3-none-any.whl.metadata (1.5 kB)\n",
      "Downloading py4j-0.10.9.7-py2.py3-none-any.whl (200 kB)\n",
      "Building wheels for collected packages: pyspark\n",
      "  Building wheel for pyspark (pyproject.toml) ... \u001b[?25ldone\n",
      "\u001b[?25h  Created wheel for pyspark: filename=pyspark-3.5.3-py2.py3-none-any.whl size=317840629 sha256=06794111597a47cfe4a74926f1c0b4f8ac1bd7e8624514e6e9d32f8babec05a7\n",
      "  Stored in directory: /Users/margaritamikaelan/Library/Caches/pip/wheels/07/a0/a3/d24c94bf043ab5c7e38c30491199a2a11fef8d2584e6df7fb7\n",
      "Successfully built pyspark\n",
      "Installing collected packages: py4j, pyspark\n",
      "Successfully installed py4j-0.10.9.7 pyspark-3.5.3\n",
      "\n",
      "\u001b[1m[\u001b[0m\u001b[34;49mnotice\u001b[0m\u001b[1;39;49m]\u001b[0m\u001b[39;49m A new release of pip is available: \u001b[0m\u001b[31;49m24.2\u001b[0m\u001b[39;49m -> \u001b[0m\u001b[32;49m24.3.1\u001b[0m\n",
      "\u001b[1m[\u001b[0m\u001b[34;49mnotice\u001b[0m\u001b[1;39;49m]\u001b[0m\u001b[39;49m To update, run: \u001b[0m\u001b[32;49mpip install --upgrade pip\u001b[0m\n",
      "Note: you may need to restart the kernel to use updated packages.\n"
     ]
    }
   ],
   "source": [
    "pip install pyspark\n"
   ]
  },
  {
   "cell_type": "code",
   "execution_count": 3,
   "metadata": {},
   "outputs": [],
   "source": [
    "from pyspark.sql import SparkSession\n",
    "from pyspark.sql.functions import col, round, sum as spark_sum"
   ]
  },
  {
   "cell_type": "code",
   "execution_count": 4,
   "metadata": {},
   "outputs": [
    {
     "name": "stderr",
     "output_type": "stream",
     "text": [
      "24/11/24 15:18:18 WARN Utils: Your hostname, Margaritas-MacBook-Pro.local resolves to a loopback address: 127.0.0.1; using 192.168.0.152 instead (on interface en0)\n",
      "24/11/24 15:18:18 WARN Utils: Set SPARK_LOCAL_IP if you need to bind to another address\n",
      "Setting default log level to \"WARN\".\n",
      "To adjust logging level use sc.setLogLevel(newLevel). For SparkR, use setLogLevel(newLevel).\n",
      "24/11/24 15:18:18 WARN NativeCodeLoader: Unable to load native-hadoop library for your platform... using builtin-java classes where applicable\n"
     ]
    }
   ],
   "source": [
    "spark = SparkSession.builder.appName(\"GoIT Data Analysis\").getOrCreate()"
   ]
  },
  {
   "cell_type": "code",
   "execution_count": 5,
   "metadata": {},
   "outputs": [],
   "source": [
    "purchases_df = spark.read.csv(\n",
    "    \"/Users/margaritamikaelan/Documents/goit/goit-de-hw-03/purchases (1).csv\",\n",
    "    header=True,\n",
    "    inferSchema=True,\n",
    ")\n",
    "products_df = spark.read.csv(\n",
    "    \"/Users/margaritamikaelan/Documents/goit/goit-de-hw-03/products (1).csv\",\n",
    "    header=True,\n",
    "    inferSchema=True,\n",
    ")\n",
    "users_df = spark.read.csv(\n",
    "    \"/Users/margaritamikaelan/Documents/goit/goit-de-hw-03/users (1).csv\",\n",
    "    header=True,\n",
    "    inferSchema=True,\n",
    ")"
   ]
  },
  {
   "cell_type": "code",
   "execution_count": 6,
   "metadata": {},
   "outputs": [],
   "source": [
    "# 2. Очищення даних (видалення рядків із пропущеними значеннями)\n",
    "purchases_df_clean = purchases_df.dropna()\n",
    "products_df_clean = products_df.dropna()\n",
    "users_df_clean = users_df.dropna()"
   ]
  },
  {
   "cell_type": "code",
   "execution_count": 9,
   "metadata": {},
   "outputs": [
    {
     "name": "stdout",
     "output_type": "stream",
     "text": [
      "Кількість проданих одиниць за категоріями:\n",
      "+-----------+--------------+\n",
      "|   category|total_quantity|\n",
      "+-----------+--------------+\n",
      "|       Home|           197|\n",
      "|     Sports|           296|\n",
      "|Electronics|           218|\n",
      "|   Clothing|           152|\n",
      "|     Beauty|            58|\n",
      "+-----------+--------------+\n",
      "\n"
     ]
    }
   ],
   "source": [
    "# 3. Підрахунок кількості проданих одиниць товарів за категоріями\n",
    "total_quantity_per_category = purchases_with_products.groupBy(\"category\").agg(\n",
    "    spark_sum(\"quantity\").alias(\"total_quantity\")\n",
    ")\n",
    "\n",
    "print(\"Кількість проданих одиниць за категоріями:\")\n",
    "total_quantity_per_category.show()"
   ]
  },
  {
   "cell_type": "code",
   "execution_count": 10,
   "metadata": {},
   "outputs": [
    {
     "name": "stdout",
     "output_type": "stream",
     "text": [
      "Кількість проданих одиниць за категоріями для вікової категорії 18-25:\n",
      "+-----------+--------------------+\n",
      "|   category|total_quantity_18_25|\n",
      "+-----------+--------------------+\n",
      "|       Home|                  42|\n",
      "|     Sports|                  53|\n",
      "|Electronics|                  31|\n",
      "|   Clothing|                  45|\n",
      "|     Beauty|                   5|\n",
      "+-----------+--------------------+\n",
      "\n"
     ]
    }
   ],
   "source": [
    "# 4. Підрахунок суми покупок за категоріями для вікової категорії 18-25\n",
    "users_filtered = users_df_clean.filter((col(\"age\") >= 18) & (col(\"age\") <= 25))\n",
    "\n",
    "purchases_with_users = purchases_with_products.join(users_filtered, \"user_id\")\n",
    "\n",
    "\n",
    "total_quantity_per_category_18_25 = purchases_with_users.groupBy(\"category\").agg(\n",
    "    spark_sum(\"quantity\").alias(\"total_quantity_18_25\")\n",
    ")\n",
    "\n",
    "print(\"Кількість проданих одиниць за категоріями для вікової категорії 18-25:\")\n",
    "total_quantity_per_category_18_25.show()"
   ]
  },
  {
   "cell_type": "code",
   "execution_count": 13,
   "metadata": {},
   "outputs": [
    {
     "name": "stdout",
     "output_type": "stream",
     "text": [
      "Частка покупок за кожною категорією:\n",
      "+-----------+-----------------+----------+\n",
      "|   category|total_spent_18_25|percentage|\n",
      "+-----------+-----------------+----------+\n",
      "|       Home|            361.1|      29.9|\n",
      "|     Sports|            310.5|     25.71|\n",
      "|Electronics|            249.6|     20.67|\n",
      "|   Clothing|            245.0|     20.29|\n",
      "|     Beauty|             41.4|      3.43|\n",
      "+-----------+-----------------+----------+\n",
      "\n"
     ]
    }
   ],
   "source": [
    "# 5. Підрахунок загальної суми всіх покупок для вікової категорії 18–25\n",
    "\n",
    "total_spent_18_25 = (\n",
    "    purchases_with_users.withColumn(\"total_spent\", col(\"quantity\") * col(\"price\"))\n",
    "    .groupBy(\"category\")\n",
    "    .agg(spark_sum(\"total_spent\").alias(\"total_spent_18_25\"))\n",
    ")\n",
    "\n",
    "\n",
    "total_spent_18_25_sum = total_spent_18_25.select(\n",
    "    spark_sum(\"total_spent_18_25\").alias(\"total_sum\")\n",
    ").collect()[0][\"total_sum\"]\n",
    "\n",
    "\n",
    "spent_percentage = total_spent_18_25.withColumn(\n",
    "    \"total_spent_18_25\", round(col(\"total_spent_18_25\"), 2)\n",
    ").withColumn(\n",
    "    \"percentage\", round((col(\"total_spent_18_25\") / total_spent_18_25_sum) * 100, 2)\n",
    ")\n",
    "\n",
    "\n",
    "print(\"Частка покупок за кожною категорією:\")\n",
    "spent_percentage.show()"
   ]
  },
  {
   "cell_type": "code",
   "execution_count": 15,
   "metadata": {},
   "outputs": [
    {
     "name": "stdout",
     "output_type": "stream",
     "text": [
      "Топ-3 категорії за часткою витрат (18-25 років):\n",
      "+-----------+-----------------+----------+\n",
      "|   category|total_spent_18_25|percentage|\n",
      "+-----------+-----------------+----------+\n",
      "|       Home|            361.1|      29.9|\n",
      "|     Sports|            310.5|     25.71|\n",
      "|Electronics|            249.6|     20.67|\n",
      "+-----------+-----------------+----------+\n",
      "\n"
     ]
    }
   ],
   "source": [
    "# Отримання топ-3 категорій за часткою витрат для вікової категорії 18-25\n",
    "top_3_categories = spent_percentage.orderBy(col(\"percentage\").desc()).limit(3)\n",
    "\n",
    "print(\"Топ-3 категорії за часткою витрат (18-25 років):\")\n",
    "top_3_categories.show()"
   ]
  }
 ],
 "metadata": {
  "kernelspec": {
   "display_name": "Python 3",
   "language": "python",
   "name": "python3"
  },
  "language_info": {
   "codemirror_mode": {
    "name": "ipython",
    "version": 3
   },
   "file_extension": ".py",
   "mimetype": "text/x-python",
   "name": "python",
   "nbconvert_exporter": "python",
   "pygments_lexer": "ipython3",
   "version": "3.12.2"
  }
 },
 "nbformat": 4,
 "nbformat_minor": 2
}
